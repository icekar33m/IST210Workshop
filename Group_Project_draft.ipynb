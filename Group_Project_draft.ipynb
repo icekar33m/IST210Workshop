{
  "nbformat": 4,
  "nbformat_minor": 0,
  "metadata": {
    "colab": {
      "name": "Group Project draft.ipynb",
      "provenance": []
    },
    "kernelspec": {
      "name": "python3",
      "display_name": "Python 3"
    }
  },
  "cells": [
    {
      "cell_type": "code",
      "metadata": {
        "id": "xKqoB4chn6vz",
        "colab_type": "code",
        "colab": {}
      },
      "source": [
        "#NOTEBOOK OTHER PEOPLE CANT EDIT\n"
      ],
      "execution_count": 0,
      "outputs": []
    },
    {
      "cell_type": "markdown",
      "metadata": {
        "id": "LO-FH-KAoHw-",
        "colab_type": "text"
      },
      "source": [
        "<img style=\"width:480px;max-width:100%;\" src=\"https://github.com/dejaworkman/IST210/blob/master/Group%20Assignment%202.png?raw=true\" alt=\"Drawing\" title=\"ER\">"
      ]
    },
    {
      "cell_type": "code",
      "metadata": {
        "id": "TsRpi_aloCZv",
        "colab_type": "code",
        "colab": {}
      },
      "source": [
        "import sqlite3 # Once imported in a single notebook, it is available to us throughout the rest of the notebook. \n",
        "# connect to database, if not there, create it.\n",
        "connectionToDatabase = sqlite3.connect('DealerDB') \n",
        "cursor = connectionToDatabase.cursor()\n",
        "connectionToDatabase.commit()\n"
      ],
      "execution_count": 0,
      "outputs": []
    },
    {
      "cell_type": "code",
      "metadata": {
        "id": "JJGqhXXdoz-h",
        "colab_type": "code",
        "colab": {}
      },
      "source": [
        "#Vehicle table\n",
        "cursor.execute('''create table vehicle (vehicle_ID int PRIMARY KEY, make text, model text, year int)''')\n",
        "connectionToDatabase.commit()"
      ],
      "execution_count": 0,
      "outputs": []
    },
    {
      "cell_type": "code",
      "metadata": {
        "id": "AnDlMLY7yStu",
        "colab_type": "code",
        "colab": {}
      },
      "source": [
        "cursor.execute('''INSERT INTO vehicle VALUES (423, \"audi\", \"a4\", 2008)''')\n",
        "cursor.execute('''INSERT INTO vehicle VALUES (526, \"volkswagen\", \"golf_gti\", 2017)''')\n",
        "cursor.execute('''INSERT INTO vehicle VALUES (223, \"volkswagen\", \"passat\", 2004)''')\n",
        "cursor.execute('''INSERT INTO vehicle VALUES (724, \"porsche\", \"macan\", 2018)''')\n",
        "cursor.execute('''INSERT INTO vehicle VALUES (458, \"audi\", \"s5\", 2013)''')\n",
        "connectionToDatabase.commit()"
      ],
      "execution_count": 0,
      "outputs": []
    },
    {
      "cell_type": "code",
      "metadata": {
        "id": "LWbPEgQodrsr",
        "colab_type": "code",
        "colab": {}
      },
      "source": [
        "#Unit table\n",
        "cursor.execute('''create table unit (vin text PRIMARY KEY, vehicle_ID int, retail float, mileage int, optionsPackage int, location_ID int)''')\n",
        "connectionToDatabase.commit()"
      ],
      "execution_count": 0,
      "outputs": []
    },
    {
      "cell_type": "code",
      "metadata": {
        "id": "-Q8iixspfVNb",
        "colab_type": "code",
        "colab": {}
      },
      "source": [
        "cursor.execute('''INSERT INTO unit VALUES (\"1FUJA6AS83LK36671\", 423, 18245.15, 71002, 1, 142)''')\n",
        "cursor.execute('''INSERT INTO unit VALUES (\"1FUJA6AS83LK36682\", 526, 12013.75, 104231, 2, 34)''')\n",
        "cursor.execute('''INSERT INTO unit VALUES (\"1KUJB6AS83LK36531\", 526, 9004.50, 15072, 1, 36)''')\n",
        "cursor.execute('''INSERT INTO unit VALUES (\"1FUJA6B1C3LK37621\", 724, 72857.26, 21424, 5, 246)''')\n",
        "cursor.execute('''INSERT INTO unit VALUES (\"1FUJA6ASSLKK36492\", 458, 35083.77, 45560, 7, 122)''')\n",
        "\n",
        "connectionToDatabase.commit()"
      ],
      "execution_count": 0,
      "outputs": []
    },
    {
      "cell_type": "code",
      "metadata": {
        "id": "VYsj2lqakpNZ",
        "colab_type": "code",
        "colab": {}
      },
      "source": [
        "#Sale table\n",
        "cursor.execute('''create table sale (tansaction_ID int PRIMARY KEY, itemPurchased text, finalSale float, customer_ID int)''')\n",
        "connectionToDatabase.commit()"
      ],
      "execution_count": 0,
      "outputs": []
    },
    {
      "cell_type": "code",
      "metadata": {
        "id": "ibMuIgvWLoTs",
        "colab_type": "code",
        "colab": {}
      },
      "source": [
        "cursor.execute('''INSERT INTO sale VALUES (1, \"476F8J37810LVNM25\", 42327.50, 23472)''')\n",
        "cursor.execute('''INSERT INTO sale VALUES (2, \"236F8J37810LVLR25\", 78923.10, 23473)''')\n",
        "cursor.execute('''INSERT INTO sale VALUES (3, \"126F8RXL810LVNM24\", 144678.66, 12468)''')\n",
        "cursor.execute('''INSERT INTO sale VALUES (4, \"476F8H37810Z77725\", 12116.50, 23474)''')\n",
        "cursor.execute('''INSERT INTO sale VALUES (5, \"476F8J347DNNVNM33\", 42440.75, 10446)''')\n",
        "\n",
        "connectionToDatabase.commit()"
      ],
      "execution_count": 0,
      "outputs": []
    },
    {
      "cell_type": "code",
      "metadata": {
        "id": "H5jehTAnNZzD",
        "colab_type": "code",
        "colab": {}
      },
      "source": [
        "#Customer table\n",
        "cursor.execute('''create table customer (customer_ID int PRIMARY KEY, firstName text, lastName text, email text, phoneNum int)''')\n",
        "connectionToDatabase.commit()"
      ],
      "execution_count": 0,
      "outputs": []
    },
    {
      "cell_type": "code",
      "metadata": {
        "id": "_ExYwY16N2m2",
        "colab_type": "code",
        "colab": {}
      },
      "source": [
        "cursor.execute('''INSERT INTO customer VALUES (10, \"Pat\", \"Seltzer\", \"pseltz@gmail.com\", 4247776628)''')\n",
        "cursor.execute('''INSERT INTO customer VALUES (11, \"Arnie\", \"Schwarz\", \"t800@yahoo.com\", 1112223344)''')\n",
        "cursor.execute('''INSERT INTO customer VALUES (12, \"Eric\", \"Trumpy\", \"etrumpy@gmail.com\", 6667823442)''')\n",
        "cursor.execute('''INSERT INTO customer VALUES (13, \"Kev\", \"Har\", \"khar@outlook.com\", 1234567890)''')\n",
        "cursor.execute('''INSERT INTO customer VALUES (14, \"Robin\", \"Scherbotsky\", \"imissted@gmail.com\", 1244778888)''')\n",
        "\n",
        "connectionToDatabase.commit()"
      ],
      "execution_count": 0,
      "outputs": []
    },
    {
      "cell_type": "code",
      "metadata": {
        "id": "581DQpRzPiPa",
        "colab_type": "code",
        "colab": {}
      },
      "source": [
        "#Location table\n",
        "cursor.execute('''create table location (location_ID int PRIMARY KEY, lotNum int, spotNum int)''')\n",
        "connectionToDatabase.commit()"
      ],
      "execution_count": 0,
      "outputs": []
    },
    {
      "cell_type": "code",
      "metadata": {
        "id": "6mApABOGP2U8",
        "colab_type": "code",
        "colab": {}
      },
      "source": [
        "cursor.execute('''INSERT INTO location VALUES (1, 1, 1)''')\n",
        "cursor.execute('''INSERT INTO location VALUES (2, 1, 2)''')\n",
        "cursor.execute('''INSERT INTO location VALUES (36, 1, 3)''')\n",
        "cursor.execute('''INSERT INTO location VALUES (34, 1, 4)''')\n",
        "cursor.execute('''INSERT INTO location VALUES (5, 2, 1)''')\n",
        "connectionToDatabase.commit()"
      ],
      "execution_count": 0,
      "outputs": []
    },
    {
      "cell_type": "markdown",
      "metadata": {
        "id": "hgbiGh6kVSJf",
        "colab_type": "text"
      },
      "source": [
        "<h3>Query time</h3>"
      ]
    },
    {
      "cell_type": "code",
      "metadata": {
        "id": "7IzTevYFRg2Y",
        "colab_type": "code",
        "colab": {
          "base_uri": "https://localhost:8080/",
          "height": 34
        },
        "outputId": "5db683da-ad89-4fba-c4a1-7f045ddbf9f4"
      },
      "source": [
        "#What Porsches do we have in inventory\n",
        "cursor.execute('''SELECT v.make, v.model, v.year FROM unit u, vehicle v WHERE u.vehicle_ID=v.vehicle_ID AND make = \"porsche\"''')\n",
        "for row in cursor.fetchall():\n",
        "  print (row)"
      ],
      "execution_count": 12,
      "outputs": [
        {
          "output_type": "stream",
          "text": [
            "('porsche', 'macan', 2018)\n"
          ],
          "name": "stdout"
        }
      ]
    },
    {
      "cell_type": "markdown",
      "metadata": {
        "id": "LUi46Ca_VfvE",
        "colab_type": "text"
      },
      "source": [
        "This question is a pretty simple inventory check.  It is simple, yet probably pretty important if you have a car dealership.  The query itself is pretty simple and straightforward - it is just selecting constrained make, model and year from our vehicle data with matching inventory vehicle_IDs."
      ]
    },
    {
      "cell_type": "code",
      "metadata": {
        "id": "p1uDAg-myRhI",
        "colab_type": "code",
        "colab": {
          "base_uri": "https://localhost:8080/",
          "height": 51
        },
        "outputId": "223aab28-2bd3-4d22-cd70-9b7b62e4acfb"
      },
      "source": [
        "#Say one of our customers wants to test drive a Volkswagen Golf variant - we want to get the car for him.  What is the location ID?\n",
        "cursor.execute('''SELECT v.make, v.model, v.year, u.location_ID FROM vehicle v, unit u WHERE v.vehicle_ID = u.vehicle_ID AND v.model LIKE \"golf%\"''')\n",
        "for row in cursor.fetchall():\n",
        "  print (row)"
      ],
      "execution_count": 13,
      "outputs": [
        {
          "output_type": "stream",
          "text": [
            "('volkswagen', 'golf_gti', 2017, 34)\n",
            "('volkswagen', 'golf_gti', 2017, 36)\n"
          ],
          "name": "stdout"
        }
      ]
    },
    {
      "cell_type": "code",
      "metadata": {
        "id": "RGtEgZITSb-L",
        "colab_type": "code",
        "colab": {
          "base_uri": "https://localhost:8080/",
          "height": 51
        },
        "outputId": "0ed0ada8-f779-49d0-887c-15eb163b7c8f"
      },
      "source": [
        "#Now that we have location ID, what lots and spaces are they in?\n",
        "cursor.execute('''SELECT lotNum, spotNUM FROM location WHERE location_ID=34 OR location_ID=36''')\n",
        "for row in cursor.fetchall():\n",
        "  print (row)"
      ],
      "execution_count": 14,
      "outputs": [
        {
          "output_type": "stream",
          "text": [
            "(1, 4)\n",
            "(1, 3)\n"
          ],
          "name": "stdout"
        }
      ]
    },
    {
      "cell_type": "markdown",
      "metadata": {
        "id": "8bu-oBJOWKTh",
        "colab_type": "text"
      },
      "source": [
        "This is sort of a compound query here.  This is a pretty realistic scenario - customer wants a test drive.  Where are the cars?  First, we find which cars we have (in case of customer preference), alongside a location ID.  With that location ID, we can then find which lot and spot number they're in."
      ]
    },
    {
      "cell_type": "code",
      "metadata": {
        "id": "sOGkLNWLTTgH",
        "colab_type": "code",
        "colab": {
          "base_uri": "https://localhost:8080/",
          "height": 34
        },
        "outputId": "e64dbcec-f4a9-434c-e53a-9b7805212daa"
      },
      "source": [
        "#What email do I have on file for customer Robin Scherbotsky?\n",
        "cursor.execute('''SELECT email FROM customer WHERE firstName = \"Robin\" AND lastName = \"Scherbotsky\"''')\n",
        "for row in cursor.fetchall():\n",
        "  print (row)"
      ],
      "execution_count": 15,
      "outputs": [
        {
          "output_type": "stream",
          "text": [
            "('imissted@gmail.com',)\n"
          ],
          "name": "stdout"
        }
      ]
    },
    {
      "cell_type": "markdown",
      "metadata": {
        "id": "j1O8k0iCW-Hg",
        "colab_type": "text"
      },
      "source": [
        "Say our customer is complaining about not getting confirmation emails.  These emails may contain sensitive info - so we have to make sure this is correct.  Here, we check what email our customer Robin has saved with us.  This one is just a select statement from a single table with 2 constraints, first name and last name."
      ]
    }
  ]
}